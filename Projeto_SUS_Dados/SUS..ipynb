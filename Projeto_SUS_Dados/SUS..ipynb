﻿{
  "metadata": {
    "name": "SUS",
    "kernelspec": {
      "language": "scala",
      "name": "spark2-scala"
    },
    "language_info": {
      "codemirror_mode": "text/x-scala",
      "file_extension": ".scala",
      "mimetype": "text/x-scala",
      "name": "scala",
      "pygments_lexer": "scala"
    }
  },
  "nbformat": 4,
  "nbformat_minor": 2,
  "cells": [
    {
      "cell_type": "code",
      "execution_count": 0,
      "metadata": {
        "autoscroll": "auto"
      },
      "outputs": [],
      "source": "import org.apache.spark.sql.SparkSession\r\nval spark \u003d SparkSession\r\n\r\n  .builder()\r\n  .enableHiveSupport()\r\n  .getOrCreate()\r\n\r\nval sqlcontext \u003d spark.sqlContext\r\n\r\nsqlcontext"
    },
    {
      "cell_type": "code",
      "execution_count": 1,
      "metadata": {
        "autoscroll": "auto"
      },
      "outputs": [],
      "source": "%pyspark\r\nfrom pyspark.sql import SQLContext\r\nsqlcontext \u003d SQLContext(sc)\r\nsqlcontext"
    },
    {
      "cell_type": "code",
      "execution_count": 2,
      "metadata": {
        "autoscroll": "auto"
      },
      "outputs": [],
      "source": "%spark\r\nval dados \u003d spark.sqlContext\r\n                .read\r\n                .option(\"header\", true)\r\n                .option(\"delimiter\", \";\")  \r\n                .option(\"encoding\", \"latin1\")\r\n                .csv(\"file:/tmp/files/dadosClean.csv\")  \r\n\r\ndados.show()"
    },
    {
      "cell_type": "code",
      "execution_count": 3,
      "metadata": {
        "autoscroll": "auto"
      },
      "outputs": [],
      "source": "dados.groupBy(\"Sexo\").count().orderBy($\"count\".desc).show()"
    },
    {
      "cell_type": "code",
      "execution_count": 4,
      "metadata": {
        "autoscroll": "auto"
      },
      "outputs": [],
      "source": "\ndados.groupBy(\"Tipo de Unidade\").count().orderBy($\"count\".desc).show()"
    },
    {
      "cell_type": "code",
      "execution_count": 5,
      "metadata": {
        "autoscroll": "auto"
      },
      "outputs": [],
      "source": "dados.groupBy(\"Descrição do Procedimento\").count().orderBy($\"count\".desc).show()"
    },
    {
      "cell_type": "code",
      "execution_count": 6,
      "metadata": {
        "autoscroll": "auto"
      },
      "outputs": [],
      "source": "dados.groupBy(\"Descrição do CID\").count().orderBy($\"count\".desc).show()"
    },
    {
      "cell_type": "code",
      "execution_count": 7,
      "metadata": {
        "autoscroll": "auto"
      },
      "outputs": [],
      "source": "dados.groupBy(\"Bairro\").count().orderBy($\"count\".desc).show()"
    },
    {
      "cell_type": "code",
      "execution_count": 8,
      "metadata": {
        "autoscroll": "auto"
      },
      "outputs": [],
      "source": "dados.groupBy(\"Nacionalidade\").count().orderBy($\"count\".desc).show()"
    },
    {
      "cell_type": "code",
      "execution_count": 9,
      "metadata": {
        "autoscroll": "auto"
      },
      "outputs": [],
      "source": "dados.groupBy(\"Encaminhamento para Atendimento Especialista\").count().orderBy($\"count\".desc).show()"
    },
    {
      "cell_type": "code",
      "execution_count": 10,
      "metadata": {
        "autoscroll": "auto"
      },
      "outputs": [],
      "source": "dados.groupBy(\"Descrição do CBO\").count().orderBy($\"count\".desc).show()"
    },
    {
      "cell_type": "code",
      "execution_count": 11,
      "metadata": {
        "autoscroll": "auto"
      },
      "outputs": [],
      "source": "dados.groupBy(\"Encaminhamento para Atendimento Especialista\").count().orderBy($\"count\".desc).show()"
    },
    {
      "cell_type": "code",
      "execution_count": 12,
      "metadata": {
        "autoscroll": "auto"
      },
      "outputs": [],
      "source": "dados.groupBy(\"Solicitação de Exames\").count().orderBy($\"count\".desc).show()"
    },
    {
      "cell_type": "code",
      "execution_count": 13,
      "metadata": {
        "autoscroll": "auto"
      },
      "outputs": [],
      "source": "dados.groupBy(\"Qtde Dispensada Farmácia Curitibana\").count().orderBy($\"count\".desc).show()"
    },
    {
      "cell_type": "code",
      "execution_count": 14,
      "metadata": {
        "autoscroll": "auto"
      },
      "outputs": [],
      "source": "dados.groupBy(\"Qtde de Medicamento Não Padronizado\").count().orderBy($\"count\".desc).show()"
    },
    {
      "cell_type": "code",
      "execution_count": 15,
      "metadata": {
        "autoscroll": "auto"
      },
      "outputs": [],
      "source": "dados.groupBy(\"Tratamento no Domicílio\").count().orderBy($\"count\".desc).show()"
    },
    {
      "cell_type": "code",
      "execution_count": 16,
      "metadata": {
        "autoscroll": "auto"
      },
      "outputs": [],
      "source": "dados.groupBy(\"Abastecimento\").count().orderBy($\"count\".desc).show()"
    },
    {
      "cell_type": "code",
      "execution_count": 17,
      "metadata": {
        "autoscroll": "auto"
      },
      "outputs": [],
      "source": "dados.groupBy(\"Energia Elétrica\").count().orderBy($\"count\".desc).show()"
    },
    {
      "cell_type": "code",
      "execution_count": 18,
      "metadata": {
        "autoscroll": "auto"
      },
      "outputs": [],
      "source": "dados.groupBy(\"Tipo de Habitação\").count().orderBy($\"count\".desc).show()"
    },
    {
      "cell_type": "code",
      "execution_count": 19,
      "metadata": {
        "autoscroll": "auto"
      },
      "outputs": [],
      "source": "dados.groupBy(\"Destino Lixo\").count().orderBy($\"count\".desc).show()"
    },
    {
      "cell_type": "code",
      "execution_count": 20,
      "metadata": {
        "autoscroll": "auto"
      },
      "outputs": [],
      "source": "dados.groupBy(\"Encaminhamento para Atendimento Especialista\").count().orderBy($\"count\".desc).show()"
    },
    {
      "cell_type": "code",
      "execution_count": 21,
      "metadata": {
        "autoscroll": "auto"
      },
      "outputs": [],
      "source": "\ndados.groupBy(\"Fezes/Urina\").count().orderBy($\"count\".desc).show()"
    },
    {
      "cell_type": "code",
      "execution_count": 22,
      "metadata": {
        "autoscroll": "auto"
      },
      "outputs": [],
      "source": "dados.groupBy(\"Em Caso de Doença\").count().orderBy($\"count\".desc).show()"
    },
    {
      "cell_type": "code",
      "execution_count": 23,
      "metadata": {
        "autoscroll": "auto"
      },
      "outputs": [],
      "source": "dados.groupBy(\"Meio de Transporte\").count().orderBy($\"count\".desc).show()"
    },
    {
      "cell_type": "code",
      "execution_count": 24,
      "metadata": {
        "autoscroll": "auto"
      },
      "outputs": [],
      "source": "dados.groupBy(\"Cômodos\").count().orderBy($\"count\".desc).show()"
    },
    {
      "cell_type": "code",
      "execution_count": 25,
      "metadata": {
        "autoscroll": "auto"
      },
      "outputs": [],
      "source": "dados.groupBy(\"Municício\").count().orderBy($\"count\".desc).show()"
    },
    {
      "cell_type": "code",
      "execution_count": 26,
      "metadata": {
        "autoscroll": "auto"
      },
      "outputs": [],
      "source": "dados.groupBy(\"Bairro\").count().orderBy($\"count\".desc).show()"
    },
    {
      "cell_type": "code",
      "execution_count": 27,
      "metadata": {
        "autoscroll": "auto"
      },
      "outputs": [],
      "source": "\ndados.groupBy(\"Nacionalidade\").count().orderBy($\"count\".desc).show()"
    },
    {
      "cell_type": "code",
      "execution_count": 28,
      "metadata": {
        "autoscroll": "auto"
      },
      "outputs": [],
      "source": "dados.groupBy(\"origem_usuario\").count().orderBy($\"count\".desc).show()"
    },
    {
      "cell_type": "code",
      "execution_count": 29,
      "metadata": {
        "autoscroll": "auto"
      },
      "outputs": [],
      "source": "\ndados.groupBy(\"residente\").count().orderBy($\"count\".desc).show()"
    },
    {
      "cell_type": "code",
      "execution_count": 30,
      "metadata": {
        "autoscroll": "auto"
      },
      "outputs": [],
      "source": "\ndados.groupBy(\"cod_profissional\").count().orderBy($\"count\".desc).show()"
    }
  ]
}